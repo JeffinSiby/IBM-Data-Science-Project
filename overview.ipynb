{
 "cells": [
  {
   "cell_type": "markdown",
   "metadata": {},
   "source": [
    "<h1>Project Overview</h1>"
   ]
  },
  {
   "cell_type": "markdown",
   "metadata": {},
   "source": [
    "<h2>Problem Introduction</h2>"
   ]
  },
  {
   "cell_type": "markdown",
   "metadata": {},
   "source": [
    "This capstone project aims to predict accident severity (i.e. the impact of a road accident) based on several features. \n",
    "\n",
    "The machine learning model will be able to help people make safer decisions and will encourage them to avoid travelling in high risk areas and in dangerous conditions, thus reducing the number of accidents. \n",
    "\n",
    "It will also help government authorities and relief authorities to help them plan ahead and improve their responses to accidents by putting in safety measures in response to the predicted accident severity. \n",
    "\n",
    "We will analyse and present findings based on publicly available collision data in the city of Seattle, provided by the Seattle Deport of Transportation (SDOT)."
   ]
  },
  {
   "cell_type": "markdown",
   "metadata": {},
   "source": [
    "<h2>Data</h2>"
   ]
  },
  {
   "cell_type": "markdown",
   "metadata": {},
   "source": [
    "The dataset contains almost 195,000 records of accidents in Seattle over the course of a 15-year period and 37 features.\n",
    "\n",
    "The key features that will be used in the project to train the machine learning model and predict accident severity are:\n",
    "\n",
    "- Location \n",
    "- Weather \n",
    "- Junction type \n",
    "- Light condition\n",
    "- Road condition\n",
    "- Accident information \n",
    "\n",
    "The Metadata Form provided by SDOT tells us that accident severity is measured using the 'SEVERITYCODE' which has 5 classes, namely: 3(fatality), 2b(serious injury), 2(injury), 1(prop damage), and 0(unkown). However, the actual dataset only contains the values 1(prop damage) and 2(injury).\n",
    "\n",
    "A copy of the Metadata Form can be found using the following link:\n",
    "https://s3.us.cloud-object-storage.appdomain.cloud/cf-courses-data/CognitiveClass/DP0701EN/version-2/Metadata.pdf\n",
    "\n",
    "A lot of the data contains incomplete records with missing values, so data cleaning will need to be performed to make it usable by the machine learning algorithm."
   ]
  }
 ],
 "metadata": {
  "kernelspec": {
   "display_name": "Python 3",
   "language": "python",
   "name": "python3"
  },
  "language_info": {
   "codemirror_mode": {
    "name": "ipython",
    "version": 3
   },
   "file_extension": ".py",
   "mimetype": "text/x-python",
   "name": "python",
   "nbconvert_exporter": "python",
   "pygments_lexer": "ipython3",
   "version": "3.8.2"
  }
 },
 "nbformat": 4,
 "nbformat_minor": 2
}
